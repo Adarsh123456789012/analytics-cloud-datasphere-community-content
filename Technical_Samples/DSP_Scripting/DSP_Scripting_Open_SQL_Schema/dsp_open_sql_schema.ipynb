{
 "cells": [
  {
   "cell_type": "markdown",
   "id": "55feefa6-5552-4a34-87f9-f3a36eaa4ed8",
   "metadata": {},
   "source": [
    "# Consume and Ingest Data via SAP Datasphere Open SQL Schemas\n",
    "\n",
    "## Purpose\n",
    "This notebook helps you to get started working with SAP Datasphere Open SQL schemas using the [hdbcli](https://pypi.org/project/hdbcli/) and  [SQLAlchemy](https://www.sqlalchemy.org/) packages. It will:\n",
    "1. [Connect to your Open SQL Schema](#connect) using the credentials provided by you in the [db_user.json](./db_user.json) file.\n",
    "2. [Read data from a view exposed for consumption by the space your schema is attached to ](#read-data)\n",
    "3. [Ingest data from any csv files in your script folder](#ingest-data)\n",
    "\n",
    "This script has been tested and reviewed by SAP but, in case of errors or other problems, SAP is not liable to offer fixes nor any kind of support and maintenance. It is recommended that you test the script first, ideally in a test environment. You can also edit, enhance, copy or otherwise use the script in your own projects.\n",
    "\n",
    "## Prerequisites\n",
    "You must:\n",
    "- [Have an SAP Datasphere database user for a space exposing data](https://help.sap.com/docs/SAP_DATASPHERE/be5967d099974c69b77f4549425ca4c0/798e3fd6707940c3bd2219b2d1ebaac2.html).\n",
    "- [Obtain the credentials for an OAuth client for the specified tenant](https://help.sap.com/docs/SAP_DATASPHERE/9f804b8efa8043539289f42f372c4862/3f92b46fe0314e8ba60720e409c219fc.html).\n",
    "\n",
    "\n",
    "## Storing Credentials\n",
    "For simplicity, the SAP Datasphere database user credentials used in this script are stored in a plain-text file. When adapting this script you should use your organization's credentials store solution and apply any other security recommendations.\n",
    "\n",
    "## More Information\n",
    "For detailed information about working with Open SQL Schemas, see: [Integrating Data via Database Users/Open SQL Schemas](https://help.sap.com/docs/SAP_DATASPHERE/be5967d099974c69b77f4549425ca4c0/3de55a78a4614deda589633baea28645.html) in the SAP Datasphere documentation."
   ]
  },
  {
   "cell_type": "markdown",
   "id": "9035757b-55b5-4548-b7f0-a9f5d54b099d",
   "metadata": {},
   "source": [
    "<a id='connect'></a>\n",
    "## Connect to Your Open SQL Schema\n",
    "Using the credentials specified in the [db_user.json](./db_user.json) file."
   ]
  },
  {
   "cell_type": "code",
   "execution_count": null,
   "id": "7e5d5f1f-1d93-4ad8-b64b-62ee01144396",
   "metadata": {},
   "outputs": [],
   "source": [
    "# Import packages\n",
    "import json\n",
    "from hdbcli import dbapi # To connect to SAP HANA Database Open SQL schema\n",
    "from sqlalchemy import create_engine\n",
    "from sqlalchemy.engine import reflection\n",
    "import sqlalchemy.types\n",
    "import glob\n",
    "import pandas as pd\n",
    "\n",
    "# Get db user details from \"db_user.json\" file\n",
    "with open('db_user.json', 'r') as file:\n",
    "    data = file.read()\n",
    "    db_user = json.loads(data)\n",
    "    print(f\"Connecting with db user {db_user['name']}.\")\n",
    "    \n",
    "#Initialize your connection\n",
    "conn = dbapi.connect(\n",
    "    address=db_user['host'],\n",
    "    port=db_user['port'],\n",
    "    user=db_user['name'],\n",
    "    password=db_user['password'], \n",
    "    encrypt=True, # must be set to True when connecting to HANA Cloud\n",
    "    sslValidateCertificate=False # True HC, False for HANA Express.\n",
    ")\n",
    "#If no errors, print connected\n",
    "print('Connected.')"
   ]
  },
  {
   "cell_type": "markdown",
   "id": "6ff2bd72-3c7e-434d-8d79-fcef6046080e",
   "metadata": {},
   "source": [
    "<a id='read-data'></a>\n",
    "## Read Data Exposed by the Space\n",
    "Read data from the exposed view in the space schema as specified in the [db_user.json](./db_user.json) file."
   ]
  },
  {
   "cell_type": "code",
   "execution_count": null,
   "id": "06a595da-bc6d-4fa7-a27e-c79d80188e2e",
   "metadata": {},
   "outputs": [],
   "source": [
    "# Using official SAP HANA client, hdbcli\n",
    "dbSpaceSchema = db_user['dbSpaceSchema']\n",
    "dbExposedView = db_user['dbExposedView']\n",
    "cursor = conn.cursor()\n",
    "sql_command = f'select top 2 * from \"{dbSpaceSchema}\".\"{dbExposedView}\"'\n",
    "print(sql_command)\n",
    "cursor.execute(sql_command)\n",
    "rows = cursor.fetchall()\n",
    "for row in rows:\n",
    "    for col in row:\n",
    "        print (\"%s\" % col, end=\" \")\n",
    "    print (\" \")"
   ]
  },
  {
   "cell_type": "markdown",
   "id": "775c6c28-83f3-4fa1-8d81-f97c20504c4e",
   "metadata": {},
   "source": [
    "<a id='ingest-data'></a>\n",
    "## Ingest Data to Your Schema\n",
    "Load data from any csv files in your script folder to create tables in your Open SQL schema."
   ]
  },
  {
   "cell_type": "code",
   "execution_count": null,
   "id": "65d8abbc-de86-4254-9f70-64452b20ac8d",
   "metadata": {},
   "outputs": [],
   "source": [
    "# Create connection string using sqlalchemy\n",
    "connect_string = f\"hana://{db_user['name']}:{db_user['password']}@{db_user['host']}:{db_user['port']}\"\n",
    "\n",
    "# Connect to Open SQL schema\n",
    "engine = create_engine(connect_string, connect_args={\n",
    "    'sslTrustStore' : \"\",\n",
    "    'encrypt' : 'true',\n",
    "    'sslHostNameInCertificate' : '*'\n",
    "}, echo=True)                                    # To enable verbose debugging information\n",
    "connection = engine.connect()\n",
    "# inspector = reflection.Inspector.from_engine(engine)\n",
    "inspector = sqlalchemy.inspect(engine)\n",
    "\n",
    "# Get a list of all CSV files in the folder\n",
    "csv_files = glob.glob('*.csv')\n",
    "csv_files_no = 0\n",
    "\n",
    "# Load each CSV file to a dataframe, and then load the data to the Open SQL Database\n",
    "for file in csv_files:\n",
    "    table_name = file.removesuffix('.csv')\n",
    "    print(f'Loading {table_name}')\n",
    "    df = pd.read_csv(file,sep=';')\n",
    "    df.to_sql(table_name, con=engine, if_exists='replace', index=False)\n",
    "    csv_files_no += 1\n",
    "print(f'Loaded {csv_files_no} csv files.')"
   ]
  },
  {
   "cell_type": "code",
   "execution_count": null,
   "id": "6c001bf7-6bd8-4350-807a-15c15a287781",
   "metadata": {},
   "outputs": [],
   "source": []
  }
 ],
 "metadata": {
  "kernelspec": {
   "display_name": "Python 3 (ipykernel)",
   "language": "python",
   "name": "python3"
  },
  "language_info": {
   "codemirror_mode": {
    "name": "ipython",
    "version": 3
   },
   "file_extension": ".py",
   "mimetype": "text/x-python",
   "name": "python",
   "nbconvert_exporter": "python",
   "pygments_lexer": "ipython3",
   "version": "3.11.7"
  }
 },
 "nbformat": 4,
 "nbformat_minor": 5
}
