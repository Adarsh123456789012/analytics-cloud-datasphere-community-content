{
 "cells": [
  {
   "cell_type": "markdown",
   "id": "082764fd-ea0d-4c52-92d8-900f005e9a2b",
   "metadata": {},
   "source": [
    "# Log in to the \"datasphere\" Command Line Interface \n",
    "\n",
    "## Purpose\n",
    "This notebook helps you to get started using the \"datasphere\" command line interface by providing an easy way to log in and switch between dsp tenants. It will:\n",
    "1. Let you specify urls and odata client credentials for three SAP Datasphere tenants in the [dsp_dev_secrets.json](./dsp_dev_secrets.json), [dsp_test_secrets.json](./dsp_test_secrets.json), and [dsp_prod_secrets.json](./dsp_prod_secrets.json) files.\n",
    "2. Log you out of any current CLI session.\n",
    "3. Set the host to the tenant specified by you.\n",
    "4. Log in to that tenant using the appropriate OData client credentials  (a browser tab will open and you must log in with your SAP Datasphere user).\n",
    "5. Initialize the client cache based on the new tenant.\n",
    "6. Run a \"spaces list\" command to confirm that you are correctly logged in.\n",
    "\n",
    "This script has been tested and reviewed by SAP but, in case of errors or other problems, SAP is not liable to offer fixes nor any kind of support and maintenance. It is recommended that you test the script first, ideally in a test environment. You can also edit, enhance, copy or otherwise use the script in your own projects.\n",
    "\n",
    "## Prerequisites\n",
    "You must:\n",
    "- Have an SAP Datasphere user for the specified tenant(s).\n",
    "- [Obtain the credentials for an OAuth client for the specified tenant(s).](https://help.sap.com/docs/SAP_DATASPHERE/9f804b8efa8043539289f42f372c4862/3f92b46fe0314e8ba60720e409c219fc.html)\n",
    "- [Install the command line interface](https://help.sap.com/docs/SAP_DATASPHERE/d0ecd6f297ac40249072a44df0549c1a/f7d5eddf20a34a1aa48d8e2c68a44e28.html).\n",
    "\n",
    "## Storing Credentials\n",
    "The SAP Datasphere OAuth credentials used in this script are, for simplicity, stored in plain-text files. When adapting this script you should use your organization's credentials store solution and apply any other security recommendations.\n"
   ]
  },
  {
   "cell_type": "code",
   "execution_count": null,
   "id": "bb5a51b7-9fff-47da-9ff0-a8691b8e1e58",
   "metadata": {},
   "outputs": [],
   "source": [
    "# Import packages\n",
    "import subprocess # for OS commands \n",
    "\n",
    "# provide tenant details. You can, of course, extend this section to add further tenants as necessary \n",
    "dsp_dev = {\n",
    "    'tenant_url': '<URL>',\n",
    "    'client_name': '<OAUTH_CLIENT_NAME>',\n",
    "    'secrets_file': 'dsp_dev_secrets.json',\n",
    "}\n",
    "dsp_test = {\n",
    "    'tenant_url': '<URL>',\n",
    "    'client_name': '<OAUTH_CLIENT_NAME>',\n",
    "    'secrets_file': 'dsp_test_secrets.json',\n",
    "}\n",
    "dsp_prod = {\n",
    "    'tenant_url': '<URL>',\n",
    "    'client_name': '<OAUTH_CLIENT_NAME>',\n",
    "    'secrets_file': 'dsp_prod_secrets.json', \n",
    "}\n",
    "\n",
    "# create login_to_ds function\n",
    "def login_to_ds(tenant='dsp_dev'):\n",
    "    \"\"\"logout, set host, login, and run test command\"\"\"\n",
    "    host = tenant['tenant_url']\n",
    "    secrets_file = tenant['secrets_file']\n",
    "    # log out of any datasphere session\n",
    "    command = f'datasphere logout'\n",
    "    print(command)\n",
    "    subprocess.run(command, shell=True)\n",
    "    # set host\n",
    "    command = f'datasphere config host set {host}'\n",
    "    print(command)\n",
    "    subprocess.run(command, shell=True)\n",
    "    # show host\n",
    "    command = f'datasphere config host show'\n",
    "    print(command)\n",
    "    subprocess.run(command, shell=True)# login\n",
    "    # log in\n",
    "    command = f'datasphere login --secrets-file \"{secrets_file}\"'\n",
    "    print(command)\n",
    "    subprocess.run(command, shell=True)\n",
    "    # initialize cache\n",
    "    command = f'datasphere config cache init'\n",
    "    print(command)\n",
    "    subprocess.run(command, shell=True)\n",
    "    # run list spaces command to confirm login\n",
    "    command = f'datasphere spaces list'\n",
    "    print(command)\n",
    "    subprocess.run(command, shell=True)\n",
    "\n",
    "# print versions of components\n",
    "command = 'node --version'\n",
    "print(command)\n",
    "subprocess.run(command, shell=True)\n",
    "\n",
    "command = 'npm --version'\n",
    "print(command)\n",
    "subprocess.run(command, shell=True)\n",
    "\n",
    "command = 'datasphere -version'\n",
    "print(command)\n",
    "subprocess.run(command, shell=True)\n",
    "\n",
    "command = ' datasphere config host show'\n",
    "print(command)\n",
    "subprocess.run(command, shell=True)\n"
   ]
  },
  {
   "cell_type": "markdown",
   "id": "475a0269-80e1-4603-932c-1de51c86aadc",
   "metadata": {},
   "source": [
    "## Log in to Dev Tenant\n",
    "Use this login command to switch to your dev tenant"
   ]
  },
  {
   "cell_type": "code",
   "execution_count": null,
   "id": "0619e708-787b-4da2-a357-2e95b8c0c1ed",
   "metadata": {},
   "outputs": [],
   "source": [
    "login_to_ds(dsp_dev)"
   ]
  },
  {
   "cell_type": "markdown",
   "id": "4a23fe8b-c6bd-4a13-8b8b-d5c0ed714909",
   "metadata": {},
   "source": [
    "## Log in to Test Tenant\n",
    "Use this login command to switch to your test tenant"
   ]
  },
  {
   "cell_type": "code",
   "execution_count": null,
   "id": "841590c7-bec7-4a7d-b564-054ce8d452a5",
   "metadata": {},
   "outputs": [],
   "source": [
    "login_to_ds(dsp_test)"
   ]
  },
  {
   "cell_type": "markdown",
   "id": "0d6c1b58-87ff-46aa-96e6-589489b09c34",
   "metadata": {},
   "source": [
    "## Log in to Prod Tenant\n",
    "Use this login command to switch to your prod tenant"
   ]
  },
  {
   "cell_type": "code",
   "execution_count": null,
   "id": "3423d359-bcc6-4dcd-9941-2c4138435786",
   "metadata": {},
   "outputs": [],
   "source": [
    "login_to_ds(dsp_prod)"
   ]
  }
 ],
 "metadata": {
  "kernelspec": {
   "display_name": "Python 3 (ipykernel)",
   "language": "python",
   "name": "python3"
  },
  "language_info": {
   "codemirror_mode": {
    "name": "ipython",
    "version": 3
   },
   "file_extension": ".py",
   "mimetype": "text/x-python",
   "name": "python",
   "nbconvert_exporter": "python",
   "pygments_lexer": "ipython3",
   "version": "3.11.7"
  }
 },
 "nbformat": 4,
 "nbformat_minor": 5
}
