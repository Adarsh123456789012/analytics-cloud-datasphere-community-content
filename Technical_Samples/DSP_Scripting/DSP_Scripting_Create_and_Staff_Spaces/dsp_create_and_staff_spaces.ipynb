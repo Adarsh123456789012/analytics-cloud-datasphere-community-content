{
 "cells": [
  {
   "cell_type": "markdown",
   "id": "639ba4db-e2ee-480a-9cf2-6da9f828236c",
   "metadata": {},
   "source": [
    "# Create and Staff Spaces via the \"datasphere\" Command Line Interface\n",
    "\n",
    "## Purpose\n",
    "This notebook helps you to get started creating spaces and adding users to them via the \"datasphere\" command line interface. It will:\n",
    "1. [Create two SAP Datasphere spaces](#create-spaces), using the files:\n",
    "    - [1_create_first_space.json](./1_create_first_space.json)\n",
    "    - [2_create_second_space.json](./2_create_second_space.json)\n",
    "2. [Create two users](#create-users), using the file:\n",
    "    - [3_create_users.json](./3_create_users.json)\n",
    "3. [Create a scoped role](#create-role), using the file:\n",
    "    - [4_create_scoped_roles.json](./4_create_scoped_roles.json)\n",
    "4. [Add the two spaces as scopes](#add-spaces) to the scoped role\n",
    "5. [Add the two users](#add-users) to the scoped role so that they can access the spaces, using the file:\n",
    "    - [5_add_users_to_scoped_role.json](./5_add_users_to_scoped_role.json)\n",
    "  \n",
    "A commented script in the final cell lets you clean up by [deleting the scoped role, users, and spaces](#delete) created with this notebook.\n",
    "\n",
    "This script has been tested and reviewed by SAP but, in case of errors or other problems, SAP is not liable to offer fixes nor any kind of support and maintenance. It is recommended that you test the script first, ideally in a test environment. You can also edit, enhance, copy or otherwise use the script in your own projects.\n",
    "\n",
    "## Prerequisites:\n",
    "- Have an SAP Datasphere user with the [DW Administrator](https://help.sap.com/docs/SAP_DATASPHERE/9f804b8efa8043539289f42f372c4862/a50a51d80d5746c9b805a2aacbb7e4ee.html) global role (or equivalent privileges) for your tenant.\n",
    "- Log in to the SAP Datasphere command line interface and set your tenant as host (for example, via the [dsp_login](../dsp_login/dsp_login.ipynb) notebook).\n",
    "\n",
    "## More Information:\n",
    "For detailed information about these concepts, see the following SAP Datasphere documentation pages:\n",
    "- [Create a Space](https://help.sap.com/docs/SAP_DATASPHERE/9f804b8efa8043539289f42f372c4862/70ee87c19d3b47459ac7f2c8d4fea48a.html?)\n",
    "    - [Manage Spaces via the Command Line](https://help.sap.com/docs/SAP_DATASPHERE/d0ecd6f297ac40249072a44df0549c1a/5eac5b71e2d34c32b63f3d8d47a0b1d0.html)\n",
    "- [Create a User](https://help.sap.com/docs/SAP_DATASPHERE/9f804b8efa8043539289f42f372c4862/58d4b24f766c4879b71c33f8e8dd5da8.html)\n",
    "    - [Manage Users via the Command Line](https://help.sap.com/docs/SAP_DATASPHERE/d0ecd6f297ac40249072a44df0549c1a/72dc33a8f41944f78318138bc1a57307.html)\n",
    "- [Create a Scoped Role to Assign Privileges to Users in Spaces](https://help.sap.com/docs/SAP_DATASPHERE/9f804b8efa8043539289f42f372c4862/b5c4e0b6c462414783ebbfc053815521.html)\n",
    "    - [Manage Scoped Roles via the Command Line](https://help.sap.com/docs/SAP_DATASPHERE/d0ecd6f297ac40249072a44df0549c1a/85085a35a58a4589bc121fb94efc4876.html)\n",
    " "
   ]
  },
  {
   "cell_type": "code",
   "execution_count": null,
   "id": "6e4dcb03-03c1-4359-a120-0ed3f1688a15",
   "metadata": {},
   "outputs": [],
   "source": [
    "# Import packages\n",
    "import subprocess"
   ]
  },
  {
   "cell_type": "markdown",
   "id": "cdb5e104-d153-46d4-8a2b-ca8b57c19d63",
   "metadata": {},
   "source": [
    "<a id='create-spaces'></a>\n",
    "## Create Spaces\n",
    "Create two spaces, using the files [1_create_first_space.json](./1_create_first_space.json) and [2_create_second_space.json](./2_create_second_space.json)."
   ]
  },
  {
   "cell_type": "code",
   "execution_count": null,
   "id": "40641e74-5c21-410d-a1eb-1a1e0d6779c1",
   "metadata": {},
   "outputs": [],
   "source": [
    "# create spaces\n",
    "command = f'datasphere spaces create --file-path 1_create_first_space.json'\n",
    "print(command)\n",
    "subprocess.run(command, shell=True)\n",
    "command = f'datasphere spaces create --file-path 2_create_second_space.json'\n",
    "print(command)\n",
    "subprocess.run(command, shell=True)"
   ]
  },
  {
   "cell_type": "markdown",
   "id": "1884348f-d6f9-4c60-a51a-b95650169b3a",
   "metadata": {},
   "source": [
    "<a id='create-users'></a>\n",
    "## Create Users\n",
    "Create users, using the file [3_create_users.json](./3_create_users.json)."
   ]
  },
  {
   "cell_type": "code",
   "execution_count": null,
   "id": "b7cdf384-5cff-4e13-860a-9968f4d7f7f8",
   "metadata": {},
   "outputs": [],
   "source": [
    "# create users \n",
    "command = f'datasphere users create --file-path 3_create_users.json'\n",
    "print(command)\n",
    "subprocess.run(command, shell=True)"
   ]
  },
  {
   "cell_type": "markdown",
   "id": "58d4dfc8-0be6-45a1-b3c7-44ce393466e0",
   "metadata": {},
   "source": [
    "<a id='create-role'></a>\n",
    "## Create a Scoped Role\n",
    "Create a scope role, using the file [4_create_scoped_roles.json](./4_create_scoped_roles.json)"
   ]
  },
  {
   "cell_type": "code",
   "execution_count": null,
   "id": "facf5f5e-4ff5-4b04-bd00-78f11be84120",
   "metadata": {},
   "outputs": [],
   "source": [
    "# create a scoped role\n",
    "command = f'datasphere scoped-roles create --file-path 4_create_scoped_roles.json'\n",
    "print(command)\n",
    "subprocess.run(command, shell=True)"
   ]
  },
  {
   "cell_type": "markdown",
   "id": "dca8d6db-b4fc-4b2b-96da-6b5a6be0ae52",
   "metadata": {},
   "source": [
    "<a id='add-spaces'></a>\n",
    "## Add Spaces to the Scoped Role\n",
    "Add spaces as scopes to the scoped role"
   ]
  },
  {
   "cell_type": "code",
   "execution_count": null,
   "id": "442a1f58-e9d8-4a7f-ba63-12b9c9c8faa7",
   "metadata": {},
   "outputs": [],
   "source": [
    "# add spaces to scoped role\n",
    "command = f'datasphere scoped-roles scopes add --role Demo_Space_Admin --scopes DEMO_SPACE_1,DEMO_SPACE_2'\n",
    "print(command)\n",
    "subprocess.run(command, shell=True)"
   ]
  },
  {
   "cell_type": "markdown",
   "id": "cd6d99ca-f84d-4049-8f65-ed93e83a839a",
   "metadata": {},
   "source": [
    "<a id='add-users'></a>\n",
    "## Add Users to the Scoped Role\n",
    "Add the users to individual scopes in the scoped role using the file [5_add_users_to_scoped_role.json](./5_add_users_to_scoped_role.json)"
   ]
  },
  {
   "cell_type": "code",
   "execution_count": null,
   "id": "19c0efad-92aa-42c8-a237-0cba1e3bd24a",
   "metadata": {},
   "outputs": [],
   "source": [
    "# add users to scoped role\n",
    "command = f'datasphere scoped-roles users add --role Demo_Space_Admin --file-path 5_add_users_to_scoped_role.json'\n",
    "print(command)\n",
    "subprocess.run(command, shell=True)"
   ]
  },
  {
   "cell_type": "markdown",
   "id": "a78e8ef3-646f-41f4-9b18-5b0e6c45b03f",
   "metadata": {},
   "source": [
    "<a id='delete'></a>\n",
    "## Clean Up Demo Environment\n",
    "Remove the comment block and run to delete the role, users, and spaces you created above."
   ]
  },
  {
   "cell_type": "code",
   "execution_count": null,
   "id": "e2aa158c-2d44-4bc6-86aa-025dd9cd7be1",
   "metadata": {},
   "outputs": [],
   "source": [
    "'''\n",
    "# remove users from scoped role\n",
    "command = f'datasphere scoped-roles users remove --role Demo_Space_Admin --file-path 5_add_users_to_scoped_role.json'\n",
    "print(command)\n",
    "subprocess.run(command, shell=True)\n",
    "\n",
    "# remove scopes from scoped role\n",
    "command = f'datasphere scoped-roles scopes remove --role Demo_Space_Admin --scopes DEMO_SPACE_1,DEMO_SPACE_2'\n",
    "print(command)\n",
    "subprocess.run(command, shell=True)\n",
    "\n",
    "# delete scoped role\n",
    "command = f'datasphere scoped-roles delete --role Demo_Space_Admin --force'\n",
    "print(command)\n",
    "subprocess.run(command, shell=True)\n",
    "\n",
    "# delete users\n",
    "command = f'datasphere users delete --users DEMO_USER_1,DEMO_USER_2 --force'\n",
    "print(command)\n",
    "subprocess.run(command, shell=True)\n",
    "\n",
    "# delete spaces\n",
    "command = f'datasphere spaces delete --space DEMO_SPACE_1 --force'\n",
    "print(command)\n",
    "subprocess.run(command, shell=True)\n",
    "command = f'datasphere spaces delete --space DEMO_SPACE_2 --force'\n",
    "print(command)\n",
    "subprocess.run(command, shell=True)\n",
    "'''"
   ]
  }
 ],
 "metadata": {
  "kernelspec": {
   "display_name": "Python 3 (ipykernel)",
   "language": "python",
   "name": "python3"
  },
  "language_info": {
   "codemirror_mode": {
    "name": "ipython",
    "version": 3
   },
   "file_extension": ".py",
   "mimetype": "text/x-python",
   "name": "python",
   "nbconvert_exporter": "python",
   "pygments_lexer": "ipython3",
   "version": "3.11.7"
  }
 },
 "nbformat": 4,
 "nbformat_minor": 5
}
