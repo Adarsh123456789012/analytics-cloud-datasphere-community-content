{
 "cells": [
  {
   "cell_type": "markdown",
   "id": "3a8dd66e-c4f4-4741-9a72-077cd16ef39f",
   "metadata": {},
   "source": [
    "# Consume Data from the SAP Datasphere OData API\n",
    "\n",
    "## Purpose\n",
    "This notebook helps you to get started browsing and working with assets exposed via the OData API. It will:\n",
    "1. Connect to the tenant you specify using the username, password, and OData client credentials provided by you in the [dsp_secrets.json](./dsp_secrets.json) file.\n",
    "2. Make requests against the OData APIs to:\n",
    "   - [List the spaces you have access to](#list-spaces)\n",
    "   - [List the assets you have access to](#list-assets)\n",
    "   - [List the assets in a specified space](#list-space-assets)\n",
    "   - [Return the metadata for a specified asset](#metadata)\n",
    "   - [Return unaggregated data from a view](#view-data)\n",
    "   - [Aggregate view data in pandas](#aggregate-view-data)\n",
    "   - [Return unaggregated data from an analytic model](#unaggregated-data)\n",
    "   - [Aggregate and plot analytic model data in a chart](#aggregate-plot)\n",
    "\n",
    "This script has been tested and reviewed by SAP but, in case of errors or other problems, SAP is not liable to offer fixes nor any kind of support and maintenance. It is recommended that you test the script first, ideally in a test environment. You can also edit, enhance, copy or otherwise use the script in your own projects.\n",
    "\n",
    "## Prerequisites\n",
    "You must:\n",
    "- Have an SAP Datasphere user for the specified tenant and be a member of one or more spaces exposing data.\n",
    "- [Obtain the credentials for an OAuth client for the specified tenant](https://help.sap.com/docs/SAP_DATASPHERE/9f804b8efa8043539289f42f372c4862/3f92b46fe0314e8ba60720e409c219fc.html) and enter them in [dsp_secrets.json](./dsp_secrets.json)\n",
    "\n",
    "## Storing Credentials\n",
    "For simplicity, the SAP Datasphere OAuth credentials used in this script are stored in a plain-text file. When adapting this script you should use your organization's credentials store solution and apply any other security recommendations.\n",
    "\n",
    "## More Information\n",
    "For detailed information about working with the OData APIs, see [Consume Data via the OData API](https://help.sap.com/docs/SAP_DATASPHERE/43509d67b8b84e66a30851e832f66911/7a453609c8694b029493e7d87e0de60a.html) in the SAP Datasphere documentation."
   ]
  },
  {
   "cell_type": "code",
   "execution_count": null,
   "id": "065db277-0449-45e1-bac9-e0a4cf4943d1",
   "metadata": {},
   "outputs": [],
   "source": [
    "import requests\n",
    "from requests_oauthlib import OAuth2Session\n",
    "from oauthlib.oauth2 import WebApplicationClient\n",
    "from selenium import webdriver\n",
    "from selenium.webdriver.common.by import By\n",
    "from selenium.webdriver.chrome.options import Options\n",
    "import re\n",
    "import getpass\n",
    "import time\n",
    "import json\n",
    "import pandas as pd\n",
    "import plotly\n",
    "\n",
    "# Specify your tenant url for use in odata requests\n",
    "tenant_url = \"<TENANT_URL>\"\n",
    "\n",
    "# Get oauth client details from \"dsp_secrets.json\" file\n",
    "with open('dsp_secrets.json', 'r') as file:\n",
    "    data = file.read()\n",
    "    client = json.loads(data)\n",
    "    print(f\"Connecting with client {client['client_id']}.\")\n",
    "\n",
    "client_id = client['client_id']\n",
    "client_secret = client['client_secret']\n",
    "authorization_base_url = client['authorization_url']\n",
    "token_url = client['token_url']\n",
    "email_address = client['email_address']\n",
    "password = client['password']\n",
    "redirect_uri=\"https://localhost:8080\"\n",
    "\n",
    "\n",
    "# Create an OAuth session\n",
    "oauth = OAuth2Session(client_id)\n",
    "\n",
    "# Start the authorization process\n",
    "authorization_url, state = oauth.authorization_url(authorization_base_url)\n",
    "\n",
    "# Use Selenium headless Chrome to acquire token\n",
    "options = Options()\n",
    "options.add_argument(\"--headless=new\")\n",
    "driver = webdriver.Chrome(options=options)\n",
    "driver.get(authorization_url)\n",
    "email_box = driver.find_element(by=By.ID, value=\"j_username\")\n",
    "password_box = driver.find_element(by=By.ID, value=\"j_password\")\n",
    "auth0_login_button = driver.find_element(By.ID, value=\"logOnFormSubmit\")\n",
    "email_box.send_keys(email_address)\n",
    "password_box.send_keys(password)\n",
    "auth0_login_button.click()\n",
    "code_url = driver.current_url\n",
    "try:\n",
    "    code = re.findall(\"(?:code=)(\\w+)\", code_url)[0]\n",
    "    print(\"Connected\")\n",
    "except:\n",
    "    raise AttributeError(\"Cannot retrieve token due to wrong credentials\")\n",
    "driver.close()\n",
    "\n",
    "# token = fetch token\n",
    "token = oauth.fetch_token(token_url, code=code, client_secret=client_secret)\n",
    "\n",
    "def odata_to_df(base_url, page_size = 1000):\n",
    "    '''\n",
    "    take api call and convert response to dataframe\n",
    "    page_size set, by default, to 1,000 records\n",
    "    '''\n",
    "    page_num = 0\n",
    "    df_list = []\n",
    "\n",
    "    while True:\n",
    "        odata_url = f'https://{tenant_url}/api/v1/dwc/{base_url}?$skip={page_num*page_size}&$top={page_size}'\n",
    "        print(f\"Fetching data from {odata_url}.\")\n",
    "        response = oauth.get(odata_url)\n",
    "        # If page doesn't exist, stop\n",
    "        if response.status_code != 200:\n",
    "            print('Failed to make OData request:', response.status_code)\n",
    "            break\n",
    "        data = response.json()\n",
    "        df = pd.json_normalize(data, \"value\")\n",
    "        df_list.append(df)\n",
    "\n",
    "        # If less than maximum records are returned, stop\n",
    "        if len(df) < page_size:\n",
    "            break\n",
    "\n",
    "        page_num += 1\n",
    "\n",
    "        # if required, add a delay between requests to respect rate limits\n",
    "        time.sleep(1)  \n",
    "\n",
    "    # combine all dataframes\n",
    "    return pd.concat(df_list, ignore_index=True)\n",
    "\n",
    "def odata_to_json(url):\n",
    "    '''take api call and convert response to json'''\n",
    "    odata_url = f'https://{tenant_url}/api/v1/dwc/'+url\n",
    "    print(f\"Fetching data from {odata_url}.\")\n",
    "    response = oauth.get(odata_url)\n",
    "    # Check the response\n",
    "    if response.status_code == 200:\n",
    "        data = response.json()\n",
    "        # json = pd.json_normalize(data, \"value\")\n",
    "        json = pd.json_normalize(data)\n",
    "        return(json)\n",
    "    else:\n",
    "        print('Failed to make OData request:', response.status_code)"
   ]
  },
  {
   "cell_type": "markdown",
   "id": "6ffd39d6-75c0-4f7c-8835-e252b761faa3",
   "metadata": {},
   "source": [
    "<a id='list-spaces'></a>\n",
    "## List Spaces\n",
    "Ready to go. No modification necessary."
   ]
  },
  {
   "cell_type": "code",
   "execution_count": null,
   "id": "3f65891d-b4fe-465a-b1ae-ff3e2e0ced79",
   "metadata": {},
   "outputs": [],
   "source": [
    "my_spaces = odata_to_df('catalog/spaces')\n",
    "my_spaces"
   ]
  },
  {
   "cell_type": "markdown",
   "id": "43aa2f68-399a-48b2-bcc1-ef17ce9994fe",
   "metadata": {},
   "source": [
    "<a id='list-assets'></a>\n",
    "## List Assets\n",
    "Ready to go. No modification necessary."
   ]
  },
  {
   "cell_type": "code",
   "execution_count": null,
   "id": "68eb9163-5e05-45f7-b653-92e4d8c93226",
   "metadata": {},
   "outputs": [],
   "source": [
    "my_assets = odata_to_df('catalog/assets')\n",
    "my_assets_simplified = my_assets[['name', 'assetRelationalDataUrl', 'assetAnalyticalDataUrl', 'hasParameters']]\n",
    "print(my_assets_simplified)"
   ]
  },
  {
   "cell_type": "markdown",
   "id": "4c50327e-9e5d-4264-89a8-1603fd4bd46b",
   "metadata": {},
   "source": [
    "<a id='list-space-assets'></a>\n",
    "## List Assets in a Space\n",
    "Using the syntax: `catalog/spaces('<space_id>')/assets`"
   ]
  },
  {
   "cell_type": "code",
   "execution_count": null,
   "id": "83939baa-a5a1-4df7-b595-748131bcc0c4",
   "metadata": {},
   "outputs": [],
   "source": [
    "space_assets = odata_to_df(\"catalog/spaces('<space_id>')/assets\")\n",
    "space_assets_simplified = space_assets[['name', 'assetRelationalDataUrl', 'assetAnalyticalDataUrl', 'hasParameters']]\n",
    "print(space_assets_simplified)"
   ]
  },
  {
   "cell_type": "markdown",
   "id": "7f9525ab-987a-4e4a-a506-6a33e4565f59",
   "metadata": {},
   "source": [
    "<a id='metadata'></a>\n",
    "## Get Asset Metadata\n",
    "Using the syntax: `catalog/spaces('<space_id>')/assets('<asset_id>')`"
   ]
  },
  {
   "cell_type": "code",
   "execution_count": null,
   "id": "6cf1f6f4-8fff-4a98-a845-2015f2982738",
   "metadata": {},
   "outputs": [],
   "source": [
    "my_asset = odata_to_json(\"catalog/spaces('<space_id>')/assets('<asset_id>')\")\n",
    "my_asset_simplified = my_asset[['name', 'assetRelationalDataUrl', 'assetAnalyticalDataUrl', 'hasParameters']]\n",
    "print(my_asset_simplified)"
   ]
  },
  {
   "cell_type": "markdown",
   "id": "7f4c829e-eefc-4a5d-b1e8-64ae3ab71bf9",
   "metadata": {},
   "source": [
    "<a id='view-data'></a>\n",
    "## View: Get Data\n",
    "Using the syntax: `consumption/relational/<space_id>/<asset_id>/<asset_id>[<params>]`"
   ]
  },
  {
   "cell_type": "code",
   "execution_count": null,
   "id": "5a26d438-65ce-4793-9070-496b813e330b",
   "metadata": {},
   "outputs": [],
   "source": [
    "my_view_data = odata_to_df(\"consumption/relational/<space_id>/<asset_id>/<asset_id>\")\n",
    "print(my_view_data.head())\n",
    "\n",
    "# Get info for df\n",
    "print(my_view_data.info())"
   ]
  },
  {
   "cell_type": "markdown",
   "id": "f4bde0b3-2ee3-4c1c-8570-fe2128019b31",
   "metadata": {},
   "source": [
    "<a id='aggregate-view-data'></a>\n",
    "## View: Aggregate Data in Pandas\n",
    "Using the syntax: `mysubset.groupby('<attribute>')['<measure>'].sum()`"
   ]
  },
  {
   "cell_type": "code",
   "execution_count": null,
   "id": "03946079-5d62-42ea-89bc-beb75e71a70d",
   "metadata": {},
   "outputs": [],
   "source": [
    "my_subset = my_view_data[['<attribute>', '<measure>']] # select columns to extract\n",
    "my_aggregation = my_subset.groupby('<attribute>')['<measure>'].sum() # group by attribute and sum measure\n",
    "my_aggregation = my_aggregation.reset_index()\n",
    "my_aggregation\n"
   ]
  },
  {
   "cell_type": "markdown",
   "id": "1e8fc335-6fe9-42db-90cb-a63c6cb4097d",
   "metadata": {},
   "source": [
    "<a id='unaggregated-data'></a>\n",
    "## Analytic Model: Get Unaggregated Data\n",
    "Using the syntax: `consumption/analytical/<space_id>/<asset_id>/<asset_id>[<params>]`"
   ]
  },
  {
   "cell_type": "code",
   "execution_count": null,
   "id": "2c1e9cea-abdf-47e9-bc39-7afb4b678e3e",
   "metadata": {},
   "outputs": [],
   "source": [
    "my_am_data = odata_to_df(\"consumption/analytical/<space_id>/<asset_id>/<asset_id>\")\n",
    "print(my_am_data.head())\n",
    "\n",
    "# Get info for df\n",
    "print(my_am_data.info())"
   ]
  },
  {
   "cell_type": "markdown",
   "id": "70a46784-0da5-4252-875c-e24a36942609",
   "metadata": {},
   "source": [
    "<a id='aggregate-plot'></a>\n",
    "## Analytic Model: Aggregate and Plot Data\n",
    "By specifying one or more measures to aggregate and one or more attributes to group by\n",
    "Using the syntax: `consumption/analytical/<space_id>/<asset_id>/<asset_id>?$select=<attribute>,<measure>`"
   ]
  },
  {
   "cell_type": "code",
   "execution_count": null,
   "id": "bcfe0dc6-8448-4c64-b09e-a2f8d183264a",
   "metadata": {},
   "outputs": [],
   "source": [
    "pd.options.plotting.backend = \"plotly\"\n",
    "my_am_aggregation = odata_to_df(\"consumption/analytical/<space_id>/<asset_id>/<asset_id>?$select=<attribute>,<measure>\")\n",
    "\n",
    "# Plot the aggregated data\n",
    "my_am_aggregation.plot(kind='bar', x='<attribute>', y='<measure>')"
   ]
  },
  {
   "cell_type": "code",
   "execution_count": null,
   "id": "fe1c8a02-4668-4397-8fc7-aefb706435e5",
   "metadata": {},
   "outputs": [],
   "source": []
  }
 ],
 "metadata": {
  "kernelspec": {
   "display_name": "Python 3 (ipykernel)",
   "language": "python",
   "name": "python3"
  },
  "language_info": {
   "codemirror_mode": {
    "name": "ipython",
    "version": 3
   },
   "file_extension": ".py",
   "mimetype": "text/x-python",
   "name": "python",
   "nbconvert_exporter": "python",
   "pygments_lexer": "ipython3",
   "version": "3.11.7"
  }
 },
 "nbformat": 4,
 "nbformat_minor": 5
}
